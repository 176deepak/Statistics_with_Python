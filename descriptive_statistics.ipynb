{
 "cells": [
  {
   "cell_type": "markdown",
   "id": "5ade321b-a5fa-42c2-89c5-b87a322cb901",
   "metadata": {},
   "source": [
    "# Descriptive Statistics with Python"
   ]
  },
  {
   "cell_type": "markdown",
   "id": "77bc5754-ca6a-4866-bffd-0d5ae10c2911",
   "metadata": {},
   "source": [
    "## 1. Measures of Central Tendency\n",
    "- Mean\n",
    "- Median\n",
    "- Mode"
   ]
  },
  {
   "cell_type": "code",
   "execution_count": 1,
   "id": "0e1ec261-f254-4612-b4cb-57add6ac8f71",
   "metadata": {},
   "outputs": [],
   "source": [
    "import numpy as np\n",
    "import scipy as sp\n",
    "import math"
   ]
  },
  {
   "cell_type": "code",
   "execution_count": 2,
   "id": "6b0c5f8f-d729-416e-abcb-2d943d17430b",
   "metadata": {},
   "outputs": [
    {
     "name": "stdout",
     "output_type": "stream",
     "text": [
      "[21, 54, 40, 28, 75, 75, 36, 99, 24, 47, 62, 99, 10, 23, 90, 22, 29, 33, 25, 84, 89, 50, 66, 41, 73, 81, 13, 80, 40, 61, 45, 52, 41, 78, 21, 83, 26, 32, 68, 89, 91, 54, 46, 56, 45, 42, 30, 25, 82, 78]\n"
     ]
    }
   ],
   "source": [
    "# random data points\n",
    "data = list(np.random.randint(low = 10, high = 100, size = 50))\n",
    "print(data)"
   ]
  },
  {
   "cell_type": "markdown",
   "id": "557e80aa-7215-401b-a504-8b4de53eefe8",
   "metadata": {},
   "source": [
    "### Mean"
   ]
  },
  {
   "cell_type": "code",
   "execution_count": 3,
   "id": "f7737aab-e2a6-4743-9cab-93c207da6ed5",
   "metadata": {},
   "outputs": [
    {
     "name": "stdout",
     "output_type": "stream",
     "text": [
      "Mean(manually):  53.08\n",
      "Mean using numpy:  53.08\n",
      "Mean using scipy:  53.08\n"
     ]
    }
   ],
   "source": [
    "# mean = (sum of all data points)/total number of datapoints\n",
    "\n",
    "# calculating mean manually\n",
    "total_sum = sum(data)\n",
    "n = len(data)\n",
    "mean = total_sum/n\n",
    "print(\"Mean(manually): \", mean)\n",
    "\n",
    "# calculating mean using numpy \n",
    "np_mean = np.mean(data)\n",
    "print(\"Mean using numpy: \", np_mean)\n",
    "\n",
    "# calculating mean using scipy\n",
    "sp_mean = sp.stats.tmean(data)\n",
    "print(\"Mean using scipy: \", sp_mean)"
   ]
  },
  {
   "cell_type": "markdown",
   "id": "15ca67f6-68ce-4327-a74e-367f60327ddb",
   "metadata": {},
   "source": [
    "### Median"
   ]
  },
  {
   "cell_type": "code",
   "execution_count": 4,
   "id": "ae70be5f-5355-4ae8-9a86-d5ff377b9a1d",
   "metadata": {},
   "outputs": [
    {
     "name": "stdout",
     "output_type": "stream",
     "text": [
      "Median(manually):  48.5\n",
      "Median using numpy:  48.5\n",
      "Median using scipy:  48.5\n"
     ]
    }
   ],
   "source": [
    "# median = (n/2)th term, if n is odd\n",
    "# median = [(n/2)th term + ((n/2)+1)th term]/2\n",
    "\n",
    "# median(manually)\n",
    "n = len(data)\n",
    "asc_ord_data = sorted(data)\n",
    "if n%2 == 0:\n",
    "    first_term = asc_ord_data[(n//2)-1]\n",
    "    second_term = asc_ord_data[(n//2)]\n",
    "    median = (first_term+second_term)/2\n",
    "    print(\"Median(manually): \", median)\n",
    "else:\n",
    "    median = data[n//2]\n",
    "    print(\"Median(manually): \", median)\n",
    "\n",
    "# median using numpy \n",
    "np_median = np.median(data)\n",
    "print(\"Median using numpy: \", np_median)\n",
    "\n",
    "# median using scipy\n",
    "sp_median = sp.ndimage.median(data)\n",
    "print(\"Median using scipy: \", sp_median)"
   ]
  },
  {
   "cell_type": "markdown",
   "id": "81439250-421c-42a1-8ee8-c87122d1c583",
   "metadata": {},
   "source": [
    "### Mode"
   ]
  },
  {
   "cell_type": "code",
   "execution_count": 5,
   "id": "447973b4-9b1e-4def-9d12-4319c838d570",
   "metadata": {},
   "outputs": [
    {
     "name": "stdout",
     "output_type": "stream",
     "text": [
      "Mode(manually):  21\n",
      "Mode using scipy:  21\n"
     ]
    }
   ],
   "source": [
    "# mode = most frequent data point or element in dataset\n",
    "\n",
    "# mode(manually)\n",
    "frequency_count = {}\n",
    "for data_point in data:\n",
    "    if data_point in frequency_count:\n",
    "        frequency_count[data_point] += 1\n",
    "    else:\n",
    "        frequency_count[data_point] = 1\n",
    "mode = max(frequency_count, key = frequency_count.get)\n",
    "print(\"Mode(manually): \", mode)\n",
    "\n",
    "# mode using scipy\n",
    "mode = sp.stats.mode(data)\n",
    "print(\"Mode using scipy: \", mode.mode)"
   ]
  },
  {
   "cell_type": "markdown",
   "id": "e57ef99d-739d-458f-ada3-5177ae091b9f",
   "metadata": {},
   "source": [
    "### Emperical Relation between mean, median and mode\n",
    "<center><strong><h3>2Mean + Mode = 3Median</h3></strong></center>"
   ]
  },
  {
   "cell_type": "markdown",
   "id": "ed12b48e-89c3-4dee-a047-6512fde7ab9d",
   "metadata": {},
   "source": [
    "## 2. Measures of Dispersion\n",
    "- Range\n",
    "- Variance\n",
    "- Standard Deviation\n",
    "- Mean Deviation\n",
    "- Quartiles\n",
    "- Percentiles"
   ]
  },
  {
   "cell_type": "markdown",
   "id": "d5ce0791-1ac5-483d-8d17-abbfdcc24929",
   "metadata": {},
   "source": [
    "### Range"
   ]
  },
  {
   "cell_type": "code",
   "execution_count": 6,
   "id": "92f546e7-72bd-48d3-a464-b40add08c841",
   "metadata": {},
   "outputs": [
    {
     "name": "stdout",
     "output_type": "stream",
     "text": [
      "Range of data is:  89\n"
     ]
    }
   ],
   "source": [
    "# range of data\n",
    "R = max(data) - min(data)\n",
    "print(\"Range of data is: \", R)"
   ]
  },
  {
   "cell_type": "markdown",
   "id": "ab4d0363-a9a5-46dc-80da-286f96b538b1",
   "metadata": {},
   "source": [
    "### Variance"
   ]
  },
  {
   "cell_type": "code",
   "execution_count": 7,
   "id": "bbeea446-1f2a-4657-a3d9-a89ab0dee7e6",
   "metadata": {},
   "outputs": [
    {
     "name": "stdout",
     "output_type": "stream",
     "text": [
      "Variance(manually):  626.9135999999999\n",
      "Variance using numpy:  626.9135999999999\n",
      "Variance using scipy:  626.9135999999999\n"
     ]
    }
   ],
   "source": [
    "# varaince = (sum of square of difference of data points from center point(mean))/n\n",
    "\n",
    "# Variance(manually)\n",
    "n = len(data)\n",
    "total_sum = sum(data)\n",
    "mean = total_sum/n\n",
    "\n",
    "sqr_sum = sum(list((xi-mean)**2 for xi in data))\n",
    "variance = sqr_sum/n\n",
    "print(\"Variance(manually): \", variance)                       # without bessel's correction\n",
    "\n",
    "# variance using numpy\n",
    "variance = np.var(data)\n",
    "print(\"Variance using numpy: \", variance)                     # without bessel's correction\n",
    "\n",
    "# variance using scipy\n",
    "variance = sp.ndimage.variance(np.array(data))\n",
    "print(\"Variance using scipy: \", variance)"
   ]
  },
  {
   "cell_type": "markdown",
   "id": "34f47496-c3a3-41b5-821e-137805310a09",
   "metadata": {},
   "source": [
    "### Standard Deviation"
   ]
  },
  {
   "cell_type": "code",
   "execution_count": 8,
   "id": "fab2b808-ca58-41f0-8cca-7da884c7942e",
   "metadata": {},
   "outputs": [
    {
     "name": "stdout",
     "output_type": "stream",
     "text": [
      "Standard Deviation(manually):  25.03824274984169\n",
      "Standard Deviation using numpy:  25.03824274984169\n",
      "Standard Deviation using scipy:  25.03824274984169\n"
     ]
    }
   ],
   "source": [
    "# standard devaition = square root of variance\n",
    "\n",
    "# manually\n",
    "SD = math.sqrt(variance)\n",
    "print(\"Standard Deviation(manually): \", SD)\n",
    "\n",
    "# using numpy\n",
    "SD = np.std(data)\n",
    "print(\"Standard Deviation using numpy: \", SD)\n",
    "\n",
    "# using scipy\n",
    "SD = sp.stats.tstd(data, ddof = 0)\n",
    "print(\"Standard Deviation using scipy: \", SD)"
   ]
  },
  {
   "cell_type": "markdown",
   "id": "9786d222-7b01-44eb-9736-84ba83a31ef6",
   "metadata": {},
   "source": [
    "### Mean Deviation"
   ]
  },
  {
   "cell_type": "code",
   "execution_count": 9,
   "id": "268fb71e-18b0-40b8-9e20-11117f99d78f",
   "metadata": {},
   "outputs": [
    {
     "name": "stdout",
     "output_type": "stream",
     "text": [
      "Mean Deviation(manually):  21.846400000000003\n"
     ]
    }
   ],
   "source": [
    "# mean deviation = (sum of absolute difference of center point and data points)/n\n",
    "\n",
    "# manually\n",
    "n = len(data)\n",
    "mean = sum(data)/n\n",
    "abs_diff = list(map(lambda xi: (xi-mean)*(-1) if (xi-mean)<0 else (xi-mean), data))\n",
    "MD = sum(abs_diff)/n\n",
    "print(\"Mean Deviation(manually): \", MD)"
   ]
  },
  {
   "cell_type": "markdown",
   "id": "1c99119d-46ac-4ff7-8a34-a858a9292397",
   "metadata": {},
   "source": [
    "### Percentiles"
   ]
  },
  {
   "cell_type": "code",
   "execution_count": 10,
   "id": "1940e300-d81e-4217-a539-2344d5e129b4",
   "metadata": {},
   "outputs": [
    {
     "name": "stdout",
     "output_type": "stream",
     "text": [
      "25th percentile(manually):  30\n",
      "25th percentile using numpy:  30.5\n",
      "60th percentilw using scipy:  57.99999999999999\n"
     ]
    }
   ],
   "source": [
    "# Percentiles = value of [i*(n+1)/100]th term\n",
    "\n",
    "# manually\n",
    "n = len(data)\n",
    "i = 25\n",
    "sorted_data = sorted(data)\n",
    "term = i*(n+1)//100\n",
    "p25 = sorted_data[term]\n",
    "print(\"25th percentile(manually): \", p25)\n",
    "\n",
    "# using numpy\n",
    "p25 = np.percentile(data, 25)\n",
    "print(\"25th percentile using numpy: \", p25)\n",
    "\n",
    "# using scipy\n",
    "p60 = sp.stats.scoreatpercentile(data, 60)\n",
    "print(\"60th percentilw using scipy: \", p60)"
   ]
  },
  {
   "cell_type": "markdown",
   "id": "70e8ad8d-5901-406d-ae17-93d2f3377358",
   "metadata": {},
   "source": [
    "### Quantiles"
   ]
  },
  {
   "cell_type": "code",
   "execution_count": 11,
   "id": "e3b6fe58-21b7-471b-aa25-c3b95a5235ba",
   "metadata": {},
   "outputs": [
    {
     "name": "stdout",
     "output_type": "stream",
     "text": [
      "First quartile Q1 (manually):  30\n",
      "First quartile Q1 using numpy:  30.5\n",
      "Third quartile Q3 using scipy:  77.25\n"
     ]
    }
   ],
   "source": [
    "# Quartiles = value of [i*(n+1)/4]th term\n",
    "\n",
    "# manually\n",
    "n = len(data)\n",
    "i = 1\n",
    "sorted_data = sorted(data)\n",
    "term = i*(n+1)//4\n",
    "Q1 = sorted_data[term]\n",
    "print(\"First quartile Q1 (manually): \", Q1)\n",
    "\n",
    "# using numpy\n",
    "Q1 = np.percentile(data, 25)\n",
    "print(\"First quartile Q1 using numpy: \", Q1)\n",
    "\n",
    "# using scipy\n",
    "Q3 = sp.stats.scoreatpercentile(data, 75)\n",
    "print(\"Third quartile Q3 using scipy: \", Q3)"
   ]
  },
  {
   "cell_type": "code",
   "execution_count": 12,
   "id": "68e02cfb-9022-4779-84b5-88fc59bb1035",
   "metadata": {},
   "outputs": [
    {
     "name": "stdout",
     "output_type": "stream",
     "text": [
      "IQR:  46.75\n"
     ]
    }
   ],
   "source": [
    "# IQR - Inter Quartile Range = Q3 - Q1\n",
    "\n",
    "IQR = Q3-Q1\n",
    "print(\"IQR: \", IQR)"
   ]
  },
  {
   "cell_type": "markdown",
   "id": "daf7247e-fa62-413a-a60b-254eba9667c7",
   "metadata": {},
   "source": [
    "### 5 Number Summary\n",
    "- Minimum value\n",
    "- First quartile Q1\n",
    "- Second quartile Q2\n",
    "- Third quartile Q3\n",
    "- Maximum value"
   ]
  },
  {
   "cell_type": "code",
   "execution_count": 13,
   "id": "779051dd-b211-4214-b22a-a3ab6dcf38ed",
   "metadata": {},
   "outputs": [
    {
     "name": "stdout",
     "output_type": "stream",
     "text": [
      "Minimum value:  10\n",
      "First Quartile:  30.5\n",
      "Second Quartile:  48.5\n",
      "Third Quartile:  77.25\n",
      "Maximum value of in data points:  99\n"
     ]
    }
   ],
   "source": [
    "# min value\n",
    "min_value = min(data)\n",
    "print(\"Minimum value: \", min_value)\n",
    "\n",
    "# first quartile\n",
    "Q1 = np.percentile(data, 25)\n",
    "print(\"First Quartile: \", Q1)\n",
    "\n",
    "# second quartile\n",
    "Q2 = np.percentile(data, 50)\n",
    "print(\"Second Quartile: \", Q2)\n",
    "\n",
    "# third quartile\n",
    "Q3 = np.percentile(data, 75)\n",
    "print(\"Third Quartile: \", Q3)\n",
    "\n",
    "# max value\n",
    "max_value = max(data)\n",
    "print(\"Maximum value of in data points: \", max_value)"
   ]
  },
  {
   "cell_type": "markdown",
   "id": "713ee413-119c-4fb8-91e2-f3d1c1e9f008",
   "metadata": {},
   "source": [
    "## 3. Measures of Shape\n",
    "- Skewness\n",
    "- Kurtosis"
   ]
  },
  {
   "cell_type": "markdown",
   "id": "fb6fff50-f7b2-4a6b-883d-8cd9329bb225",
   "metadata": {},
   "source": [
    "### Skewness"
   ]
  },
  {
   "cell_type": "code",
   "execution_count": 14,
   "id": "9414ee0d-fcfb-4883-9a01-13b07ec7a676",
   "metadata": {},
   "outputs": [
    {
     "name": "stdout",
     "output_type": "stream",
     "text": [
      "Skewness using numpy:  0.1883146512738904\n",
      "Skewness using scipy:  0.18831465127389038\n"
     ]
    }
   ],
   "source": [
    "# Skewness = sum of ((datapointd-mean)**3)/n*SD**3\n",
    "\n",
    "# using numpy\n",
    "mean = np.mean(data)\n",
    "SD = np.std(data)\n",
    "skewness = np.mean((data-mean)**3)/SD**3\n",
    "print(\"Skewness using numpy: \", skewness)\n",
    "\n",
    "# using scipy\n",
    "skewness = sp.stats.skew(data)\n",
    "print(\"Skewness using scipy: \", skewness)"
   ]
  },
  {
   "cell_type": "markdown",
   "id": "ead6361d-7805-4098-a2dd-4fd80ff851a5",
   "metadata": {},
   "source": [
    "### Kurtosis"
   ]
  },
  {
   "cell_type": "code",
   "execution_count": 15,
   "id": "d0e524b0-3273-4bf5-8e3c-3c117b56a2af",
   "metadata": {},
   "outputs": [
    {
     "name": "stdout",
     "output_type": "stream",
     "text": [
      "Kurtosis using numpy: -1.2110616213691623\n",
      "Kurtosis using scipy: -1.2110616213691618\n"
     ]
    }
   ],
   "source": [
    "# kurtosis = [(sum of (datapoint-mean)**4/n*SD**4]\n",
    "\n",
    "# using numpy\n",
    "kurtosis = (np.mean((data-mean)**4)/SD**4) - 3\n",
    "print(\"Kurtosis using numpy:\", kurtosis)\n",
    "\n",
    "# using scipy\n",
    "kurtosis = sp.stats.kurtosis(data)\n",
    "print(\"Kurtosis using scipy:\", kurtosis)"
   ]
  },
  {
   "cell_type": "code",
   "execution_count": null,
   "id": "0947dd5f-db40-46fb-b592-55af37e33470",
   "metadata": {},
   "outputs": [],
   "source": []
  }
 ],
 "metadata": {
  "kernelspec": {
   "display_name": "Python 3 (ipykernel)",
   "language": "python",
   "name": "python3"
  },
  "language_info": {
   "codemirror_mode": {
    "name": "ipython",
    "version": 3
   },
   "file_extension": ".py",
   "mimetype": "text/x-python",
   "name": "python",
   "nbconvert_exporter": "python",
   "pygments_lexer": "ipython3",
   "version": "3.11.5"
  }
 },
 "nbformat": 4,
 "nbformat_minor": 5
}
